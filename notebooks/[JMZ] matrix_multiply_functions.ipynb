{
 "cells": [
  {
   "cell_type": "code",
   "execution_count": 7,
   "metadata": {
    "collapsed": true
   },
   "outputs": [],
   "source": [
    "import pyspark\n",
    "\n",
    "try: \n",
    "    type(sc)\n",
    "except NameError:\n",
    "    sc = pyspark.SparkContext('local[*]')"
   ]
  },
  {
   "cell_type": "code",
   "execution_count": 8,
   "metadata": {
    "collapsed": true
   },
   "outputs": [],
   "source": [
    "#matrix: maxtrix[n,m] = list of size nxm\n",
    "#vector: vector[m,1] = list of size m\n",
    "#sc: SparkContext\n",
    "def multiplyMatrixByVector(matrix,vector,sc):\n",
    "    \n",
    "    matrixRDD = sc.parallelize(matrix,8) #matriz reducida la paralelizo en RDDs\n",
    "    \n",
    "    matrixPerRowRDD = matrixRDD.map(lambda x: (x[0],(x[1],x[2]))) #(fila,(columna,valor))\n",
    "    \n",
    "    #mutiplico cada elemento de una fila por el valor del vector correspondiente\n",
    "    partialResultRDD = matrixPerRowRDD.map(lambda x: (x[0], vector[x[1][0]-1] * x[1][1])) \n",
    "    \n",
    "    #sumo las que tienen la misma key (fila)\n",
    "    resultPerRow = partialResultRDD.reduceByKey(lambda x,y: x+y)\n",
    "    \n",
    "    return resultPerRow.map(lambda x: x[1]) #devuelvo un vector en forma de lista"
   ]
  },
  {
   "cell_type": "markdown",
   "metadata": {},
   "source": [
    "Pruebo mi función definiendo una matriz y un vector"
   ]
  },
  {
   "cell_type": "code",
   "execution_count": 10,
   "metadata": {
    "collapsed": false
   },
   "outputs": [
    {
     "name": "stdout",
     "output_type": "stream",
     "text": [
      "[23, 3, 4, -4, 11]\n"
     ]
    }
   ],
   "source": [
    "matrix = [\n",
    "(1,2,4),\n",
    "(1,5,3),\n",
    "(2,1,3),\n",
    "(3,2,2),\n",
    "(4,4,-1),\n",
    "(5,1,1),\n",
    "(5,5,2)]\n",
    "\n",
    "vector = [1, 2, 3, 4, 5]\n",
    "\n",
    "print(multiplyMatrixByVector(matrix,vector,sc).take(20))\n",
    "\n"
   ]
  },
  {
   "cell_type": "code",
   "execution_count": null,
   "metadata": {
    "collapsed": true
   },
   "outputs": [],
   "source": []
  }
 ],
 "metadata": {
  "kernelspec": {
   "display_name": "Python 3",
   "language": "python",
   "name": "python3"
  },
  "language_info": {
   "codemirror_mode": {
    "name": "ipython",
    "version": 3
   },
   "file_extension": ".py",
   "mimetype": "text/x-python",
   "name": "python",
   "nbconvert_exporter": "python",
   "pygments_lexer": "ipython3",
   "version": "3.5.2"
  }
 },
 "nbformat": 4,
 "nbformat_minor": 0
}

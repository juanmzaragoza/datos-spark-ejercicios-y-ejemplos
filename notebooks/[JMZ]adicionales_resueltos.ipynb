{
 "cells": [
  {
   "cell_type": "code",
   "execution_count": 2,
   "metadata": {
    "collapsed": true
   },
   "outputs": [],
   "source": [
    "import pyspark\n",
    "\n",
    "try: \n",
    "    type(sc)\n",
    "except NameError:\n",
    "    sc = pyspark.SparkContext('local[*]')"
   ]
  },
  {
   "cell_type": "markdown",
   "metadata": {},
   "source": [
    "# Ejercicios Adicionales Apache Spark"
   ]
  },
  {
   "cell_type": "markdown",
   "metadata": {},
   "source": [
    "\n",
    "\n",
    "## Ej 1: Drunk in a graph\n",
    "\n",
    "Tenemos un RDD que representa un grafo dirigido en donde cada registro es de la forma (node_id, [neighbors]) siendo neighbors una lista de vecinos, por ejemplo el nodo (19,[15,13]) indica que el nodo 19 es vecino de 15 y 13 es decir que existen las aristas 19-15 y 19-13. \n",
    "a) Escribir en Spark un programa que genere un random walk de longitud k para el grafo. Un Random Walk es una travesía al azar, comenzamos en un nodo al azar y nos movemos k veces hacia un nodo vecino del anterior elegido al azar. En un 4-clique un Random Walk con k=5 podría ser de la forma: [A,B,A,C,D]\n",
    "b) Idem anterior pero ahora pedimos generar no uno sino 1000 random walks.\n",
    "\n"
   ]
  },
  {
   "cell_type": "code",
   "execution_count": null,
   "metadata": {
    "collapsed": true
   },
   "outputs": [],
   "source": []
  },
  {
   "cell_type": "markdown",
   "metadata": {},
   "source": [
    "## Ej 2: Breaking Sha\n",
    "\n",
    "Dado el valor de un hash obtenido por SHA-256 y sabiendo que el hash proviene de un string de 9 caracteres en [a-z] queremos saber cuál fue el string que generó el hash. Contamos con un cluster de 28 equipos que podemos aprovechar para paralelizar la búsqueda.\n",
    "\n"
   ]
  },
  {
   "cell_type": "code",
   "execution_count": 9,
   "metadata": {
    "collapsed": false
   },
   "outputs": [
    {
     "name": "stdout",
     "output_type": "stream",
     "text": [
      "True\n"
     ]
    }
   ],
   "source": [
    "import hashlib\n",
    "\n",
    "def getSha256FromString(string):\n",
    "    return hashlib.sha256(string.encode(\"ascii\")).hexdigest()\n",
    "\n",
    "m = getSha256FromString(\"papafrita\")\n",
    "\n",
    "\n",
    "\n"
   ]
  },
  {
   "cell_type": "markdown",
   "metadata": {},
   "source": [
    "## Ej 3: \n",
    "\n",
    "Tenemos información sobre las compras que los usuarios realizan en un sitio online, cada registro indica el usuario, el id de la operación y una lista de productos comprados, esta información se encuentra en un RDD llamado \"purchases\" (operation_id, (user_id, [product_ids])). Queremos construir una lista de productos comprados frecuentemente junto con otros, para eso queremos construir un nuevo RDD de la forma (product_id,[p_id1,p_id2,p_id3]) donde p_id1,p_id2 y p_id3 son los tres productos que mas frecuentemente se compran junto con el product_id."
   ]
  },
  {
   "cell_type": "code",
   "execution_count": null,
   "metadata": {
    "collapsed": true
   },
   "outputs": [],
   "source": []
  }
 ],
 "metadata": {
  "kernelspec": {
   "display_name": "Python 3",
   "language": "python",
   "name": "python3"
  },
  "language_info": {
   "codemirror_mode": {
    "name": "ipython",
    "version": 3
   },
   "file_extension": ".py",
   "mimetype": "text/x-python",
   "name": "python",
   "nbconvert_exporter": "python",
   "pygments_lexer": "ipython3",
   "version": "3.5.2"
  }
 },
 "nbformat": 4,
 "nbformat_minor": 0
}

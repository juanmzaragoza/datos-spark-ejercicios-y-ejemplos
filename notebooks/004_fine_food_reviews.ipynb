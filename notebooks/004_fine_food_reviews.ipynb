{
 "cells": [
  {
   "cell_type": "code",
   "execution_count": 1,
   "metadata": {
    "collapsed": true
   },
   "outputs": [],
   "source": [
    "import pyspark\n",
    "\n",
    "try: \n",
    "    type(sc)\n",
    "except NameError:\n",
    "    sc = pyspark.SparkContext('local[*]')"
   ]
  },
  {
   "cell_type": "markdown",
   "metadata": {},
   "source": [
    "## Fine Food Reviews\n",
    "\n",
    "Fuente: https://inclass.kaggle.com/c/fine-food-reviews\n",
    "\n",
    "### Representacion\n",
    "\n",
    "- **Id** - El id que identifica a cada review\n",
    "- **ProductId** - El Id del producto\n",
    "- **UserId** - El Id del usuario\n",
    "- **ProfileName** - El nombre del usuario \n",
    "- **HelpfulnessNumerator** - El numerador indicando la cantidad de usuarios que juzgaron al review como util\n",
    "- **HelpfulnessDenominator** - El denominador indicando la cantidad de usuarios que evaluaron si el review fue útil o no\n",
    "- **Prediction** - La cantidad de estrellas del review\n",
    "- **Time** - Un timestamp para el review\n",
    "- **Summary** - Un resumen del review\n",
    "- **Text** - Texto del review"
   ]
  },
  {
   "cell_type": "code",
   "execution_count": 37,
   "metadata": {
    "collapsed": false
   },
   "outputs": [
    {
     "data": {
      "text/plain": [
       "['\"Id\",\"ProductId\",\"UserId\",\"ProfileName\",\"HelpfulnessNumerator\",\"HelpfulnessDenominator\",\"Prediction\",\"Time\",\"Summary\",\"Text\"']"
      ]
     },
     "execution_count": 37,
     "metadata": {},
     "output_type": "execute_result"
    }
   ],
   "source": [
    "## creamos el RDD a partir de\n",
    "reviewsTextRDD = sc.textFile('data/fine-food-reviews-train.csv',8)\n",
    "## aplicamos una accion para tomar los 15 items del RDD\n",
    "reviewsTextRDD.take(1)"
   ]
  },
  {
   "cell_type": "markdown",
   "metadata": {},
   "source": [
    "### Parseando el CSV"
   ]
  },
  {
   "cell_type": "code",
   "execution_count": 51,
   "metadata": {
    "collapsed": false
   },
   "outputs": [
    {
     "data": {
      "text/plain": [
       "[['\"Id\"',\n",
       "  '\"ProductId\"',\n",
       "  '\"UserId\"',\n",
       "  '\"ProfileName\"',\n",
       "  '\"HelpfulnessNumerator\"',\n",
       "  '\"HelpfulnessDenominator\"',\n",
       "  '\"Prediction\"',\n",
       "  '\"Time\"',\n",
       "  '\"Summary\"',\n",
       "  '\"Text\"']]"
      ]
     },
     "execution_count": 51,
     "metadata": {},
     "output_type": "execute_result"
    }
   ],
   "source": [
    "# esto puede mejorarse mucho y probablemente acarre errores de procesamiento\n",
    "reviewsRDD = reviewsTextRDD.map(lambda a: a.split(','))\n",
    "reviewsRDD.take(1)"
   ]
  },
  {
   "cell_type": "markdown",
   "metadata": {},
   "source": [
    "### User Profiles con Mayor Cantidad de Reviews"
   ]
  },
  {
   "cell_type": "code",
   "execution_count": 52,
   "metadata": {
    "collapsed": false
   },
   "outputs": [
    {
     "data": {
      "text/plain": [
       "[('\"C. F. Hill \"\"CFH\"\"\"', 347),\n",
       " ('\"O. Brown \"\"Ms. O. Khannah-Brown\"\"\"', 338),\n",
       " ('\"Gary Peterson\"', 306),\n",
       " ('\"Chris\"', 291),\n",
       " ('\"Rebecca of Amazon \"\"The Rebecca Review\"\"\"', 289),\n",
       " ('\"Linda\"', 224),\n",
       " ('\"Mike\"', 209),\n",
       " ('\"c2\"', 207),\n",
       " ('\"Laura\"', 206),\n",
       " ('\"John\"', 204)]"
      ]
     },
     "execution_count": 52,
     "metadata": {},
     "output_type": "execute_result"
    }
   ],
   "source": [
    "from operator import add\n",
    "reviewsRDD.map(lambda a: (a[3], 1)).reduceByKey(add).sortBy(ascending=False,keyfunc=lambda x:x[1]).take(10)"
   ]
  },
  {
   "cell_type": "markdown",
   "metadata": {},
   "source": [
    "### ProductIds con Mayor Cantidad de Reviews"
   ]
  },
  {
   "cell_type": "code",
   "execution_count": 53,
   "metadata": {
    "collapsed": false
   },
   "outputs": [
    {
     "data": {
      "text/plain": [
       "[('\"B007JFMH8M\"', 714),\n",
       " ('\"B003B3OOPA\"', 511),\n",
       " ('\"B0026RQTGE\"', 509),\n",
       " ('\"B002QWP8H0\"', 508),\n",
       " ('\"B002QWP89S\"', 499)]"
      ]
     },
     "execution_count": 53,
     "metadata": {},
     "output_type": "execute_result"
    }
   ],
   "source": [
    "from operator import add\n",
    "reviewsRDD.map(lambda a: (a[1], 1)).reduceByKey(add).sortBy(ascending=False,keyfunc=lambda x:x[1]).take(5)"
   ]
  },
  {
   "cell_type": "markdown",
   "metadata": {},
   "source": [
    "### Cantidad totales de Reviews por Calificacion"
   ]
  },
  {
   "cell_type": "code",
   "execution_count": 54,
   "metadata": {
    "collapsed": false
   },
   "outputs": [
    {
     "data": {
      "text/plain": [
       "[('5', 288513), ('4', 64077), ('1', 42194), ('3', 33936), ('2', 24035)]"
      ]
     },
     "execution_count": 54,
     "metadata": {},
     "output_type": "execute_result"
    }
   ],
   "source": [
    "reviewsPerScoreRDD = reviewsRDD.map(lambda a: (a[6], 1)).reduceByKey(add).sortBy(ascending=False,keyfunc=lambda x:x[1])\n",
    "reviewsPerScoreRDD.take(5)"
   ]
  },
  {
   "cell_type": "markdown",
   "metadata": {},
   "source": [
    "### Probabilidad total de cada Calificacion"
   ]
  },
  {
   "cell_type": "code",
   "execution_count": 56,
   "metadata": {
    "collapsed": false
   },
   "outputs": [
    {
     "data": {
      "text/plain": [
       "[('5', 0.634),\n",
       " ('4', 0.141),\n",
       " ('1', 0.093),\n",
       " ('3', 0.075),\n",
       " ('2', 0.053),\n",
       " ('0', 0.003)]"
      ]
     },
     "execution_count": 56,
     "metadata": {},
     "output_type": "execute_result"
    }
   ],
   "source": [
    "totalFreq = reviewsRDD.count()\n",
    "reviewsPerScoreRDD.map(lambda x: (x[0], round(float(x[1])/totalFreq,3))).take(6)"
   ]
  }
 ],
 "metadata": {
  "kernelspec": {
   "display_name": "Python 3",
   "language": "python",
   "name": "python3"
  },
  "language_info": {
   "codemirror_mode": {
    "name": "ipython",
    "version": 3
   },
   "file_extension": ".py",
   "mimetype": "text/x-python",
   "name": "python",
   "nbconvert_exporter": "python",
   "pygments_lexer": "ipython3",
   "version": "3.5.2"
  }
 },
 "nbformat": 4,
 "nbformat_minor": 0
}

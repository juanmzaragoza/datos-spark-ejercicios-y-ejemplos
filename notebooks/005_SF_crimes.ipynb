{
 "cells": [
  {
   "cell_type": "markdown",
   "metadata": {},
   "source": [
    "# San Francisco Crime"
   ]
  },
  {
   "cell_type": "markdown",
   "metadata": {},
   "source": [
    "## Leo CSV como RDD"
   ]
  },
  {
   "cell_type": "code",
   "execution_count": 1,
   "metadata": {
    "collapsed": false
   },
   "outputs": [],
   "source": [
    "import pyspark_csv as pycsv\n",
    "sc.addPyFile('pyspark_csv.py')\n",
    "plaintext_rdd = sc.textFile('sf/train.csv')\n",
    "dataframe = pycsv.csvToDataFrame(sqlCtx, plaintext_rdd, parseDate=False)"
   ]
  },
  {
   "cell_type": "code",
   "execution_count": 2,
   "metadata": {
    "collapsed": false
   },
   "outputs": [
    {
     "data": {
      "text/plain": [
       "PythonRDD[14] at RDD at PythonRDD.scala:43"
      ]
     },
     "execution_count": 2,
     "metadata": {},
     "output_type": "execute_result"
    }
   ],
   "source": [
    "data = dataframe.rdd\n",
    "data"
   ]
  },
  {
   "cell_type": "markdown",
   "metadata": {},
   "source": [
    "## Primer registro de los datos"
   ]
  },
  {
   "cell_type": "code",
   "execution_count": 3,
   "metadata": {
    "collapsed": false
   },
   "outputs": [
    {
     "data": {
      "text/plain": [
       "Row(Dates=u'2015-05-13 23:53:00', Category=u'WARRANTS', Descript=u'WARRANT ARREST', DayOfWeek=u'Wednesday', PdDistrict=u'NORTHERN', Resolution=u'ARREST, BOOKED', Address=u'OAK ST / LAGUNA ST', X=-122.425891675136, Y=37.7745985956747)"
      ]
     },
     "execution_count": 3,
     "metadata": {},
     "output_type": "execute_result"
    }
   ],
   "source": [
    "data.first()"
   ]
  },
  {
   "cell_type": "markdown",
   "metadata": {},
   "source": [
    "## Categorías de crímenes"
   ]
  },
  {
   "cell_type": "code",
   "execution_count": 4,
   "metadata": {
    "collapsed": false
   },
   "outputs": [],
   "source": [
    "categories = data.map(lambda row: row.Category).distinct()"
   ]
  },
  {
   "cell_type": "code",
   "execution_count": 5,
   "metadata": {
    "collapsed": false
   },
   "outputs": [
    {
     "data": {
      "text/plain": [
       "[u'WEAPON LAWS',\n",
       " u'TREA',\n",
       " u'EMBEZZLEMENT',\n",
       " u'DRIVING UNDER THE INFLUENCE',\n",
       " u'BURGLARY',\n",
       " u'LIQUOR LAWS',\n",
       " u'MISSING PERSON',\n",
       " u'SEX OFFENSES NON FORCIBLE',\n",
       " u'EXTORTION',\n",
       " u'TRESPASS',\n",
       " u'LARCENY/THEFT',\n",
       " u'NON-CRIMINAL',\n",
       " u'GAMBLING',\n",
       " u'OTHER OFFENSES',\n",
       " u'DRUNKENNESS',\n",
       " u'VEHICLE THEFT',\n",
       " u'RECOVERED VEHICLE',\n",
       " u'FAMILY OFFENSES',\n",
       " u'WARRANTS',\n",
       " u'ASSAULT',\n",
       " u'BAD CHECKS',\n",
       " u'SEX OFFENSES FORCIBLE',\n",
       " u'PORNOGRAPHY/OBSCENE MAT',\n",
       " u'PROSTITUTION',\n",
       " u'BRIBERY',\n",
       " u'LOITERING',\n",
       " u'ROBBERY',\n",
       " u'ARSON',\n",
       " u'RUNAWAY',\n",
       " u'SUSPICIOUS OCC',\n",
       " u'VANDALISM',\n",
       " u'KIDNAPPING',\n",
       " u'DISORDERLY CONDUCT',\n",
       " u'SECONDARY CODES',\n",
       " u'STOLEN PROPERTY',\n",
       " u'FORGERY/COUNTERFEITING',\n",
       " u'FRAUD',\n",
       " u'DRUG/NARCOTIC',\n",
       " u'SUICIDE']"
      ]
     },
     "execution_count": 5,
     "metadata": {},
     "output_type": "execute_result"
    }
   ],
   "source": [
    "categories.collect()"
   ]
  },
  {
   "cell_type": "markdown",
   "metadata": {},
   "source": [
    "## Cantidad de categorías de crímenes"
   ]
  },
  {
   "cell_type": "code",
   "execution_count": 6,
   "metadata": {
    "collapsed": false
   },
   "outputs": [
    {
     "data": {
      "text/plain": [
       "39"
      ]
     },
     "execution_count": 6,
     "metadata": {},
     "output_type": "execute_result"
    }
   ],
   "source": [
    "categories.count()"
   ]
  },
  {
   "cell_type": "markdown",
   "metadata": {},
   "source": [
    "## Categorías de crímenes ordenadas alfabeticamente"
   ]
  },
  {
   "cell_type": "code",
   "execution_count": 7,
   "metadata": {
    "collapsed": false
   },
   "outputs": [
    {
     "data": {
      "text/plain": [
       "[u'ARSON',\n",
       " u'ASSAULT',\n",
       " u'BAD CHECKS',\n",
       " u'BRIBERY',\n",
       " u'BURGLARY',\n",
       " u'DISORDERLY CONDUCT',\n",
       " u'DRIVING UNDER THE INFLUENCE',\n",
       " u'DRUG/NARCOTIC',\n",
       " u'DRUNKENNESS',\n",
       " u'EMBEZZLEMENT',\n",
       " u'EXTORTION',\n",
       " u'FAMILY OFFENSES',\n",
       " u'FORGERY/COUNTERFEITING',\n",
       " u'FRAUD',\n",
       " u'GAMBLING',\n",
       " u'KIDNAPPING',\n",
       " u'LARCENY/THEFT',\n",
       " u'LIQUOR LAWS',\n",
       " u'LOITERING',\n",
       " u'MISSING PERSON',\n",
       " u'NON-CRIMINAL',\n",
       " u'OTHER OFFENSES',\n",
       " u'PORNOGRAPHY/OBSCENE MAT',\n",
       " u'PROSTITUTION',\n",
       " u'RECOVERED VEHICLE',\n",
       " u'ROBBERY',\n",
       " u'RUNAWAY',\n",
       " u'SECONDARY CODES',\n",
       " u'SEX OFFENSES FORCIBLE',\n",
       " u'SEX OFFENSES NON FORCIBLE',\n",
       " u'STOLEN PROPERTY',\n",
       " u'SUICIDE',\n",
       " u'SUSPICIOUS OCC',\n",
       " u'TREA',\n",
       " u'TRESPASS',\n",
       " u'VANDALISM',\n",
       " u'VEHICLE THEFT',\n",
       " u'WARRANTS',\n",
       " u'WEAPON LAWS']"
      ]
     },
     "execution_count": 7,
     "metadata": {},
     "output_type": "execute_result"
    }
   ],
   "source": [
    "categories.takeOrdered(40)"
   ]
  },
  {
   "cell_type": "markdown",
   "metadata": {},
   "source": [
    "## 10 delitos más comunes"
   ]
  },
  {
   "cell_type": "code",
   "execution_count": 8,
   "metadata": {
    "collapsed": false
   },
   "outputs": [
    {
     "data": {
      "text/plain": [
       "[(u'LARCENY/THEFT', 174900),\n",
       " (u'OTHER OFFENSES', 126182),\n",
       " (u'NON-CRIMINAL', 92304),\n",
       " (u'ASSAULT', 76876),\n",
       " (u'DRUG/NARCOTIC', 53971),\n",
       " (u'VEHICLE THEFT', 53781),\n",
       " (u'VANDALISM', 44725),\n",
       " (u'WARRANTS', 42214),\n",
       " (u'BURGLARY', 36755),\n",
       " (u'SUSPICIOUS OCC', 31414)]"
      ]
     },
     "execution_count": 8,
     "metadata": {},
     "output_type": "execute_result"
    }
   ],
   "source": [
    "data.map(lambda row: (row.Category, 1))\\\n",
    "    .reduceByKey(lambda a, b: a+b)\\\n",
    "    .takeOrdered(10, key = lambda x: -x[1])"
   ]
  },
  {
   "cell_type": "markdown",
   "metadata": {},
   "source": [
    "## Día de la semana con más casos de 'Driving under the influence'"
   ]
  },
  {
   "cell_type": "code",
   "execution_count": 9,
   "metadata": {
    "collapsed": false
   },
   "outputs": [
    {
     "data": {
      "text/plain": [
       "[(u'Saturday', 457), (u'Sunday', 442), (u'Friday', 352)]"
      ]
     },
     "execution_count": 9,
     "metadata": {},
     "output_type": "execute_result"
    }
   ],
   "source": [
    "data.filter(lambda row: row.Category == 'DRIVING UNDER THE INFLUENCE')\\\n",
    "    .map(lambda row: (row.DayOfWeek, 1))\\\n",
    "    .reduceByKey(lambda a, b: a+b)\\\n",
    "    .takeOrdered(3, key = lambda x: -x[1])"
   ]
  },
  {
   "cell_type": "markdown",
   "metadata": {},
   "source": [
    "## Los 3 distritos con mayor cantidad de crímenes"
   ]
  },
  {
   "cell_type": "code",
   "execution_count": 10,
   "metadata": {
    "collapsed": false
   },
   "outputs": [
    {
     "data": {
      "text/plain": [
       "[(u'SOUTHERN', 157182), (u'MISSION', 119908), (u'NORTHERN', 105296)]"
      ]
     },
     "execution_count": 10,
     "metadata": {},
     "output_type": "execute_result"
    }
   ],
   "source": [
    "data.map(lambda row: (row.PdDistrict, 1))\\\n",
    "    .reduceByKey(lambda a, b: a+b)\\\n",
    "    .takeOrdered(3, key = lambda x: -x[1])"
   ]
  },
  {
   "cell_type": "markdown",
   "metadata": {},
   "source": [
    "## Crímenes que tienen mayor porcentaje de resolución “Not Prosecuted”"
   ]
  },
  {
   "cell_type": "code",
   "execution_count": null,
   "metadata": {
    "collapsed": false
   },
   "outputs": [],
   "source": [
    "not_prosecuted = data.filter(lambda row: row.Resolution == 'NOT PROSECUTED')\\\n",
    "                     .map(lambda row: (row.Category, 1))\\\n",
    "                     .reduceByKey(lambda a, b: a+b)\n",
    "not_prosecuted.collect()"
   ]
  },
  {
   "cell_type": "code",
   "execution_count": null,
   "metadata": {
    "collapsed": false
   },
   "outputs": [],
   "source": [
    "all_resolutions = data.map(lambda row: (row.Category, 1))\\\n",
    "                      .reduceByKey(lambda a, b: a+b)"
   ]
  },
  {
   "cell_type": "code",
   "execution_count": null,
   "metadata": {
    "collapsed": false
   },
   "outputs": [],
   "source": [
    "res = all_resolutions.join(not_prosecuted)\n",
    "res.takeOrdered(5, key = lambda x: -(x[1][1]*100/x[1][0]))"
   ]
  },
  {
   "cell_type": "code",
   "execution_count": 11,
   "metadata": {
    "collapsed": false
   },
   "outputs": [
    {
     "data": {
      "text/plain": [
       "[(u'FORGERY/COUNTERFEITING', (698, 10609)),\n",
       " (u'FRAUD', (946, 16679)),\n",
       " (u'BAD CHECKS', (19, 406)),\n",
       " (u'GAMBLING', (4, 146)),\n",
       " (u'EMBEZZLEMENT', (21, 1166))]"
      ]
     },
     "execution_count": 11,
     "metadata": {},
     "output_type": "execute_result"
    }
   ],
   "source": [
    "# todo en uno\n",
    "\n",
    "data.map(lambda row: (row.Category, (int(row.Resolution == \"NOT PROSECUTED\"), 1)))\\\n",
    "    .reduceByKey(lambda a,b: (a[0]+b[0],a[1]+b[1]))\\\n",
    "    .takeOrdered(5, key = lambda x: -(x[1][0]*100/x[1][1]))"
   ]
  },
  {
   "cell_type": "markdown",
   "metadata": {},
   "source": [
    "## Delitos por día de la semana"
   ]
  },
  {
   "cell_type": "code",
   "execution_count": null,
   "metadata": {
    "collapsed": false
   },
   "outputs": [],
   "source": [
    "day_of_week_crimes_rdd = data.map(lambda row: (row.DayOfWeek, 1))\\\n",
    "                             .reduceByKey(lambda a, b: a+b)"
   ]
  },
  {
   "cell_type": "code",
   "execution_count": null,
   "metadata": {
    "collapsed": false
   },
   "outputs": [],
   "source": [
    "day_of_week_crimes = day_of_week_crimes_rdd.collect()\n",
    "day_of_week_crimes"
   ]
  },
  {
   "cell_type": "code",
   "execution_count": null,
   "metadata": {
    "collapsed": false
   },
   "outputs": [],
   "source": [
    "%matplotlib inline\n",
    "\n",
    "import matplotlib.pyplot as plt\n",
    "import numpy as np\n",
    "\n",
    "days = [t[0] for t in day_of_week_crimes]\n",
    "y_pos = np.arange(len(days))\n",
    "crimes = [t[1] for t in day_of_week_crimes]\n",
    "\n",
    "plt.barh(y_pos, crimes)\n",
    "plt.yticks(y_pos, days)\n",
    "plt.xlabel('Crimes')\n",
    "plt.title('Crimenes por dia de la semana')\n",
    "\n",
    "plt.show()"
   ]
  },
  {
   "cell_type": "code",
   "execution_count": null,
   "metadata": {
    "collapsed": false
   },
   "outputs": [],
   "source": [
    "dataframe.registerTempTable(\"crimes\")\n",
    "sqlCtx.sql(\"select distinct Category from crimes\").collect()"
   ]
  },
  {
   "cell_type": "code",
   "execution_count": null,
   "metadata": {
    "collapsed": false
   },
   "outputs": [],
   "source": [
    "sqlCtx.sql(\"select distinct Category from crimes order by Category\").collect()"
   ]
  },
  {
   "cell_type": "markdown",
   "metadata": {},
   "source": [
    "## 10 delitos más comunes con SQL"
   ]
  },
  {
   "cell_type": "code",
   "execution_count": null,
   "metadata": {
    "collapsed": false
   },
   "outputs": [],
   "source": [
    "sqlCtx.sql(\"select Category, count(*) as crimes_count from crimes group by Category order by crimes_count desc limit 10\").collect()"
   ]
  },
  {
   "cell_type": "markdown",
   "metadata": {},
   "source": [
    "## Día de la semana con más casos de 'Driving under the influence'"
   ]
  },
  {
   "cell_type": "code",
   "execution_count": null,
   "metadata": {
    "collapsed": false
   },
   "outputs": [],
   "source": [
    "sqlCtx.sql(\"select DayOfWeek, count(*) as crimes_count from crimes where Category == 'DRIVING UNDER THE INFLUENCE' group by DayOfWeek order by crimes_count desc limit 1\").collect()"
   ]
  },
  {
   "cell_type": "code",
   "execution_count": null,
   "metadata": {
    "collapsed": false
   },
   "outputs": [],
   "source": []
  }
 ],
 "metadata": {
  "kernelspec": {
   "display_name": "pySpark",
   "language": "python",
   "name": "pyspark"
  },
  "language_info": {
   "codemirror_mode": {
    "name": "ipython",
    "version": 2
   },
   "file_extension": ".py",
   "mimetype": "text/x-python",
   "name": "python",
   "nbconvert_exporter": "python",
   "pygments_lexer": "ipython2",
   "version": "2.7.6"
  }
 },
 "nbformat": 4,
 "nbformat_minor": 0
}
